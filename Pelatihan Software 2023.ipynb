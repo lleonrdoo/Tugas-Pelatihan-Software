{
 "cells": [
  {
   "cell_type": "code",
   "execution_count": 2,
   "id": "53e458a6",
   "metadata": {},
   "outputs": [],
   "source": [
    "import numpy as np\n",
    "import pandas as pd\n",
    "import matplotlib.pyplot as plt\n",
    "import sklearn as skl\n",
    "\n",
    "\n"
   ]
  },
  {
   "cell_type": "markdown",
   "id": "60ba0373",
   "metadata": {},
   "source": [
    "## Membaca DataSet"
   ]
  },
  {
   "cell_type": "code",
   "execution_count": 3,
   "id": "aa29b5ab",
   "metadata": {},
   "outputs": [
    {
     "data": {
      "text/html": [
       "<div>\n",
       "<style scoped>\n",
       "    .dataframe tbody tr th:only-of-type {\n",
       "        vertical-align: middle;\n",
       "    }\n",
       "\n",
       "    .dataframe tbody tr th {\n",
       "        vertical-align: top;\n",
       "    }\n",
       "\n",
       "    .dataframe thead th {\n",
       "        text-align: right;\n",
       "    }\n",
       "</style>\n",
       "<table border=\"1\" class=\"dataframe\">\n",
       "  <thead>\n",
       "    <tr style=\"text-align: right;\">\n",
       "      <th></th>\n",
       "      <th>Unnamed: 0</th>\n",
       "      <th>IDENTITAS</th>\n",
       "      <th>UMUR</th>\n",
       "      <th>JENIS_KELAMIN</th>\n",
       "      <th>PENGALAMAN_MENGEMUDI</th>\n",
       "      <th>PENDIDIKAN</th>\n",
       "      <th>PENGHASILAN</th>\n",
       "      <th>SKOR_KREDIT</th>\n",
       "      <th>PEMILIK_KENDARAAN</th>\n",
       "      <th>TAHUN_PRODUKSI</th>\n",
       "      <th>STATUS</th>\n",
       "      <th>ANAK</th>\n",
       "      <th>KODE_POS</th>\n",
       "      <th>KM_PER_TAHUN</th>\n",
       "      <th>JENIS_KENDARAAN</th>\n",
       "      <th>TILANG_NGEBUT</th>\n",
       "      <th>TILANG_MABUK</th>\n",
       "      <th>KECELAKAAN_SEBELUMNYA</th>\n",
       "      <th>KLAIM</th>\n",
       "    </tr>\n",
       "  </thead>\n",
       "  <tbody>\n",
       "    <tr>\n",
       "      <th>0</th>\n",
       "      <td>0</td>\n",
       "      <td>569520</td>\n",
       "      <td>lebih dari 65 tahun</td>\n",
       "      <td>perempuan</td>\n",
       "      <td>kurang dari 10 tahun</td>\n",
       "      <td>SMA</td>\n",
       "      <td>lebih dari 3x UMR</td>\n",
       "      <td>0.629027</td>\n",
       "      <td>ya</td>\n",
       "      <td>setelah 2020</td>\n",
       "      <td>belum menikah</td>\n",
       "      <td>ada</td>\n",
       "      <td>10238</td>\n",
       "      <td>12000.0</td>\n",
       "      <td>keluarga</td>\n",
       "      <td>0</td>\n",
       "      <td>0</td>\n",
       "      <td>0</td>\n",
       "      <td>tidak</td>\n",
       "    </tr>\n",
       "    <tr>\n",
       "      <th>1</th>\n",
       "      <td>1</td>\n",
       "      <td>750365</td>\n",
       "      <td>kurang dari 25 tahun</td>\n",
       "      <td>laki-laki</td>\n",
       "      <td>kurang dari 10 tahun</td>\n",
       "      <td>tidak ada</td>\n",
       "      <td>kurang dari UMR</td>\n",
       "      <td>0.357757</td>\n",
       "      <td>tidak</td>\n",
       "      <td>sebelum 2020</td>\n",
       "      <td>belum menikah</td>\n",
       "      <td>tidak ada</td>\n",
       "      <td>10238</td>\n",
       "      <td>16000.0</td>\n",
       "      <td>keluarga</td>\n",
       "      <td>0</td>\n",
       "      <td>0</td>\n",
       "      <td>0</td>\n",
       "      <td>ya</td>\n",
       "    </tr>\n",
       "    <tr>\n",
       "      <th>2</th>\n",
       "      <td>2</td>\n",
       "      <td>199901</td>\n",
       "      <td>kurang dari 25 tahun</td>\n",
       "      <td>perempuan</td>\n",
       "      <td>kurang dari 10 tahun</td>\n",
       "      <td>SMA</td>\n",
       "      <td>antara 1-2x UMR</td>\n",
       "      <td>0.493146</td>\n",
       "      <td>ya</td>\n",
       "      <td>sebelum 2020</td>\n",
       "      <td>belum menikah</td>\n",
       "      <td>tidak ada</td>\n",
       "      <td>10238</td>\n",
       "      <td>11000.0</td>\n",
       "      <td>keluarga</td>\n",
       "      <td>0</td>\n",
       "      <td>0</td>\n",
       "      <td>0</td>\n",
       "      <td>tidak</td>\n",
       "    </tr>\n",
       "    <tr>\n",
       "      <th>3</th>\n",
       "      <td>3</td>\n",
       "      <td>478866</td>\n",
       "      <td>kurang dari 25 tahun</td>\n",
       "      <td>laki-laki</td>\n",
       "      <td>kurang dari 10 tahun</td>\n",
       "      <td>universitas</td>\n",
       "      <td>antara 1-2x UMR</td>\n",
       "      <td>0.206013</td>\n",
       "      <td>ya</td>\n",
       "      <td>sebelum 2020</td>\n",
       "      <td>belum menikah</td>\n",
       "      <td>ada</td>\n",
       "      <td>32765</td>\n",
       "      <td>11000.0</td>\n",
       "      <td>keluarga</td>\n",
       "      <td>0</td>\n",
       "      <td>0</td>\n",
       "      <td>0</td>\n",
       "      <td>tidak</td>\n",
       "    </tr>\n",
       "    <tr>\n",
       "      <th>4</th>\n",
       "      <td>4</td>\n",
       "      <td>731664</td>\n",
       "      <td>antara 25-40 tahun</td>\n",
       "      <td>laki-laki</td>\n",
       "      <td>antara 10-20 tahun</td>\n",
       "      <td>tidak ada</td>\n",
       "      <td>antara 1-2x UMR</td>\n",
       "      <td>0.388366</td>\n",
       "      <td>ya</td>\n",
       "      <td>sebelum 2020</td>\n",
       "      <td>belum menikah</td>\n",
       "      <td>tidak ada</td>\n",
       "      <td>32765</td>\n",
       "      <td>12000.0</td>\n",
       "      <td>keluarga</td>\n",
       "      <td>2</td>\n",
       "      <td>0</td>\n",
       "      <td>1</td>\n",
       "      <td>ya</td>\n",
       "    </tr>\n",
       "  </tbody>\n",
       "</table>\n",
       "</div>"
      ],
      "text/plain": [
       "   Unnamed: 0  IDENTITAS                  UMUR JENIS_KELAMIN  \\\n",
       "0           0     569520   lebih dari 65 tahun     perempuan   \n",
       "1           1     750365  kurang dari 25 tahun     laki-laki   \n",
       "2           2     199901  kurang dari 25 tahun     perempuan   \n",
       "3           3     478866  kurang dari 25 tahun     laki-laki   \n",
       "4           4     731664    antara 25-40 tahun     laki-laki   \n",
       "\n",
       "   PENGALAMAN_MENGEMUDI   PENDIDIKAN        PENGHASILAN  SKOR_KREDIT  \\\n",
       "0  kurang dari 10 tahun          SMA  lebih dari 3x UMR     0.629027   \n",
       "1  kurang dari 10 tahun    tidak ada    kurang dari UMR     0.357757   \n",
       "2  kurang dari 10 tahun          SMA    antara 1-2x UMR     0.493146   \n",
       "3  kurang dari 10 tahun  universitas    antara 1-2x UMR     0.206013   \n",
       "4    antara 10-20 tahun    tidak ada    antara 1-2x UMR     0.388366   \n",
       "\n",
       "  PEMILIK_KENDARAAN TAHUN_PRODUKSI         STATUS       ANAK  KODE_POS  \\\n",
       "0                ya   setelah 2020  belum menikah        ada     10238   \n",
       "1             tidak   sebelum 2020  belum menikah  tidak ada     10238   \n",
       "2                ya   sebelum 2020  belum menikah  tidak ada     10238   \n",
       "3                ya   sebelum 2020  belum menikah        ada     32765   \n",
       "4                ya   sebelum 2020  belum menikah  tidak ada     32765   \n",
       "\n",
       "   KM_PER_TAHUN JENIS_KENDARAAN  TILANG_NGEBUT  TILANG_MABUK  \\\n",
       "0       12000.0        keluarga              0             0   \n",
       "1       16000.0        keluarga              0             0   \n",
       "2       11000.0        keluarga              0             0   \n",
       "3       11000.0        keluarga              0             0   \n",
       "4       12000.0        keluarga              2             0   \n",
       "\n",
       "   KECELAKAAN_SEBELUMNYA  KLAIM  \n",
       "0                      0  tidak  \n",
       "1                      0     ya  \n",
       "2                      0  tidak  \n",
       "3                      0  tidak  \n",
       "4                      1     ya  "
      ]
     },
     "execution_count": 3,
     "metadata": {},
     "output_type": "execute_result"
    }
   ],
   "source": [
    "am = pd.read_csv('C:/Users/santi/asuransi_mobil.csv')\n",
    "am.head(5)"
   ]
  },
  {
   "cell_type": "code",
   "execution_count": 4,
   "id": "57aff150",
   "metadata": {},
   "outputs": [
    {
     "data": {
      "text/html": [
       "<div>\n",
       "<style scoped>\n",
       "    .dataframe tbody tr th:only-of-type {\n",
       "        vertical-align: middle;\n",
       "    }\n",
       "\n",
       "    .dataframe tbody tr th {\n",
       "        vertical-align: top;\n",
       "    }\n",
       "\n",
       "    .dataframe thead th {\n",
       "        text-align: right;\n",
       "    }\n",
       "</style>\n",
       "<table border=\"1\" class=\"dataframe\">\n",
       "  <thead>\n",
       "    <tr style=\"text-align: right;\">\n",
       "      <th></th>\n",
       "      <th>Unnamed: 0</th>\n",
       "      <th>IDENTITAS</th>\n",
       "      <th>SKOR_KREDIT</th>\n",
       "      <th>KODE_POS</th>\n",
       "      <th>KM_PER_TAHUN</th>\n",
       "      <th>TILANG_NGEBUT</th>\n",
       "      <th>TILANG_MABUK</th>\n",
       "      <th>KECELAKAAN_SEBELUMNYA</th>\n",
       "    </tr>\n",
       "  </thead>\n",
       "  <tbody>\n",
       "    <tr>\n",
       "      <th>count</th>\n",
       "      <td>10000.00000</td>\n",
       "      <td>10000.000000</td>\n",
       "      <td>9018.000000</td>\n",
       "      <td>10000.000000</td>\n",
       "      <td>9043.000000</td>\n",
       "      <td>10000.000000</td>\n",
       "      <td>10000.00000</td>\n",
       "      <td>10000.000000</td>\n",
       "    </tr>\n",
       "    <tr>\n",
       "      <th>mean</th>\n",
       "      <td>4999.50000</td>\n",
       "      <td>500521.906800</td>\n",
       "      <td>0.515813</td>\n",
       "      <td>19864.548400</td>\n",
       "      <td>11697.003207</td>\n",
       "      <td>1.482900</td>\n",
       "      <td>0.23920</td>\n",
       "      <td>1.056300</td>\n",
       "    </tr>\n",
       "    <tr>\n",
       "      <th>std</th>\n",
       "      <td>2886.89568</td>\n",
       "      <td>290030.768758</td>\n",
       "      <td>0.137688</td>\n",
       "      <td>18915.613855</td>\n",
       "      <td>2818.434528</td>\n",
       "      <td>2.241966</td>\n",
       "      <td>0.55499</td>\n",
       "      <td>1.652454</td>\n",
       "    </tr>\n",
       "    <tr>\n",
       "      <th>min</th>\n",
       "      <td>0.00000</td>\n",
       "      <td>101.000000</td>\n",
       "      <td>0.053358</td>\n",
       "      <td>10238.000000</td>\n",
       "      <td>2000.000000</td>\n",
       "      <td>0.000000</td>\n",
       "      <td>0.00000</td>\n",
       "      <td>0.000000</td>\n",
       "    </tr>\n",
       "    <tr>\n",
       "      <th>25%</th>\n",
       "      <td>2499.75000</td>\n",
       "      <td>249638.500000</td>\n",
       "      <td>0.417191</td>\n",
       "      <td>10238.000000</td>\n",
       "      <td>10000.000000</td>\n",
       "      <td>0.000000</td>\n",
       "      <td>0.00000</td>\n",
       "      <td>0.000000</td>\n",
       "    </tr>\n",
       "    <tr>\n",
       "      <th>50%</th>\n",
       "      <td>4999.50000</td>\n",
       "      <td>501777.000000</td>\n",
       "      <td>0.525033</td>\n",
       "      <td>10238.000000</td>\n",
       "      <td>12000.000000</td>\n",
       "      <td>0.000000</td>\n",
       "      <td>0.00000</td>\n",
       "      <td>0.000000</td>\n",
       "    </tr>\n",
       "    <tr>\n",
       "      <th>75%</th>\n",
       "      <td>7499.25000</td>\n",
       "      <td>753974.500000</td>\n",
       "      <td>0.618312</td>\n",
       "      <td>32765.000000</td>\n",
       "      <td>14000.000000</td>\n",
       "      <td>2.000000</td>\n",
       "      <td>0.00000</td>\n",
       "      <td>2.000000</td>\n",
       "    </tr>\n",
       "    <tr>\n",
       "      <th>max</th>\n",
       "      <td>9999.00000</td>\n",
       "      <td>999976.000000</td>\n",
       "      <td>0.960819</td>\n",
       "      <td>92101.000000</td>\n",
       "      <td>22000.000000</td>\n",
       "      <td>22.000000</td>\n",
       "      <td>6.00000</td>\n",
       "      <td>15.000000</td>\n",
       "    </tr>\n",
       "  </tbody>\n",
       "</table>\n",
       "</div>"
      ],
      "text/plain": [
       "        Unnamed: 0      IDENTITAS  SKOR_KREDIT      KODE_POS  KM_PER_TAHUN  \\\n",
       "count  10000.00000   10000.000000  9018.000000  10000.000000   9043.000000   \n",
       "mean    4999.50000  500521.906800     0.515813  19864.548400  11697.003207   \n",
       "std     2886.89568  290030.768758     0.137688  18915.613855   2818.434528   \n",
       "min        0.00000     101.000000     0.053358  10238.000000   2000.000000   \n",
       "25%     2499.75000  249638.500000     0.417191  10238.000000  10000.000000   \n",
       "50%     4999.50000  501777.000000     0.525033  10238.000000  12000.000000   \n",
       "75%     7499.25000  753974.500000     0.618312  32765.000000  14000.000000   \n",
       "max     9999.00000  999976.000000     0.960819  92101.000000  22000.000000   \n",
       "\n",
       "       TILANG_NGEBUT  TILANG_MABUK  KECELAKAAN_SEBELUMNYA  \n",
       "count   10000.000000   10000.00000           10000.000000  \n",
       "mean        1.482900       0.23920               1.056300  \n",
       "std         2.241966       0.55499               1.652454  \n",
       "min         0.000000       0.00000               0.000000  \n",
       "25%         0.000000       0.00000               0.000000  \n",
       "50%         0.000000       0.00000               0.000000  \n",
       "75%         2.000000       0.00000               2.000000  \n",
       "max        22.000000       6.00000              15.000000  "
      ]
     },
     "execution_count": 4,
     "metadata": {},
     "output_type": "execute_result"
    }
   ],
   "source": [
    "am.describe()"
   ]
  },
  {
   "cell_type": "code",
   "execution_count": 5,
   "id": "98a30b6e",
   "metadata": {},
   "outputs": [
    {
     "data": {
      "text/plain": [
       "Unnamed: 0                 int64\n",
       "IDENTITAS                  int64\n",
       "UMUR                      object\n",
       "JENIS_KELAMIN             object\n",
       "PENGALAMAN_MENGEMUDI      object\n",
       "PENDIDIKAN                object\n",
       "PENGHASILAN               object\n",
       "SKOR_KREDIT              float64\n",
       "PEMILIK_KENDARAAN         object\n",
       "TAHUN_PRODUKSI            object\n",
       "STATUS                    object\n",
       "ANAK                      object\n",
       "KODE_POS                   int64\n",
       "KM_PER_TAHUN             float64\n",
       "JENIS_KENDARAAN           object\n",
       "TILANG_NGEBUT              int64\n",
       "TILANG_MABUK               int64\n",
       "KECELAKAAN_SEBELUMNYA      int64\n",
       "KLAIM                     object\n",
       "dtype: object"
      ]
     },
     "execution_count": 5,
     "metadata": {},
     "output_type": "execute_result"
    }
   ],
   "source": [
    "am.dtypes"
   ]
  },
  {
   "cell_type": "code",
   "execution_count": 6,
   "id": "8ee1328f",
   "metadata": {},
   "outputs": [
    {
     "data": {
      "text/plain": [
       "Unnamed: 0                 0\n",
       "IDENTITAS                  0\n",
       "UMUR                       0\n",
       "JENIS_KELAMIN              0\n",
       "PENGALAMAN_MENGEMUDI       0\n",
       "PENDIDIKAN                 0\n",
       "PENGHASILAN                0\n",
       "SKOR_KREDIT              982\n",
       "PEMILIK_KENDARAAN          0\n",
       "TAHUN_PRODUKSI             0\n",
       "STATUS                     0\n",
       "ANAK                       0\n",
       "KODE_POS                   0\n",
       "KM_PER_TAHUN             957\n",
       "JENIS_KENDARAAN            0\n",
       "TILANG_NGEBUT              0\n",
       "TILANG_MABUK               0\n",
       "KECELAKAAN_SEBELUMNYA      0\n",
       "KLAIM                      0\n",
       "dtype: int64"
      ]
     },
     "execution_count": 6,
     "metadata": {},
     "output_type": "execute_result"
    }
   ],
   "source": [
    "am.isnull().sum()"
   ]
  },
  {
   "cell_type": "code",
   "execution_count": 7,
   "id": "b6dbdfc5",
   "metadata": {},
   "outputs": [
    {
     "data": {
      "text/plain": [
       "array(['lebih dari 65 tahun', 'kurang dari 25 tahun',\n",
       "       'antara 25-40 tahun', 'antara 40-65 tahun'], dtype=object)"
      ]
     },
     "execution_count": 7,
     "metadata": {},
     "output_type": "execute_result"
    }
   ],
   "source": [
    "am.UMUR.unique()"
   ]
  },
  {
   "cell_type": "code",
   "execution_count": 19,
   "id": "81e779e1",
   "metadata": {},
   "outputs": [],
   "source": [
    "am['UMUR'] = \\\n",
    "am['UMUR'].map({'lebih dari 65 tahun':4,'antara 40-65 tahun':3,'antara 25-40':2,'kurang dari 25':1})"
   ]
  },
  {
   "cell_type": "code",
   "execution_count": 8,
   "id": "467f6284",
   "metadata": {},
   "outputs": [
    {
     "data": {
      "text/plain": [
       "array(['perempuan', 'laki-laki'], dtype=object)"
      ]
     },
     "execution_count": 8,
     "metadata": {},
     "output_type": "execute_result"
    }
   ],
   "source": [
    "am.JENIS_KELAMIN.unique()"
   ]
  },
  {
   "cell_type": "code",
   "execution_count": 9,
   "id": "54f49e29",
   "metadata": {},
   "outputs": [
    {
     "data": {
      "text/plain": [
       "array(['kurang dari 10 tahun', 'antara 10-20 tahun', 'antara 20-30 tahun',\n",
       "       'lebih dari 30 tahun'], dtype=object)"
      ]
     },
     "execution_count": 9,
     "metadata": {},
     "output_type": "execute_result"
    }
   ],
   "source": [
    "am.PENGALAMAN_MENGEMUDI.unique()"
   ]
  },
  {
   "cell_type": "code",
   "execution_count": 23,
   "id": "bf972592",
   "metadata": {},
   "outputs": [],
   "source": [
    "am['PENGALAMAN_MENGEMUDI'] = \\\n",
    "am['PENGALAMAN_MENGEMUDI'].map({'lebih dari 30 tahun':4,'antara 20-30 tahun':3,'antara 10-20 tahun':2,'kurang dari 10 tahun':1})"
   ]
  },
  {
   "cell_type": "code",
   "execution_count": 10,
   "id": "9a411e6a",
   "metadata": {},
   "outputs": [
    {
     "data": {
      "text/plain": [
       "array(['SMA', 'tidak ada', 'universitas'], dtype=object)"
      ]
     },
     "execution_count": 10,
     "metadata": {},
     "output_type": "execute_result"
    }
   ],
   "source": [
    "am.PENDIDIKAN.unique()"
   ]
  },
  {
   "cell_type": "code",
   "execution_count": 24,
   "id": "a3434452",
   "metadata": {},
   "outputs": [],
   "source": [
    "am['PENDIDIKAN'] = \\\n",
    "am['PENDIDIKAN'].map({'universitas':3,'SMA':2,'tidak ada':1})"
   ]
  },
  {
   "cell_type": "code",
   "execution_count": 12,
   "id": "7b5b5dca",
   "metadata": {},
   "outputs": [
    {
     "data": {
      "text/plain": [
       "array(['lebih dari 3x UMR', 'kurang dari UMR', 'antara 1-2x UMR',\n",
       "       'antara 2-3x UMR'], dtype=object)"
      ]
     },
     "execution_count": 12,
     "metadata": {},
     "output_type": "execute_result"
    }
   ],
   "source": [
    "am.PENGHASILAN.unique()"
   ]
  },
  {
   "cell_type": "code",
   "execution_count": 25,
   "id": "b0ab923e",
   "metadata": {},
   "outputs": [],
   "source": [
    "am['PENGHASILAN'] = \\\n",
    "am['PENGHASILAN'].map({'lebih dari 3x UMR':4,'antara 2-3x UMR':3,'antara 1-2x UMR':2,'kurang dari UMR':1})"
   ]
  },
  {
   "cell_type": "code",
   "execution_count": 13,
   "id": "7a152be1",
   "metadata": {},
   "outputs": [
    {
     "data": {
      "text/plain": [
       "array(['ya', 'tidak'], dtype=object)"
      ]
     },
     "execution_count": 13,
     "metadata": {},
     "output_type": "execute_result"
    }
   ],
   "source": [
    "am.PEMILIK_KENDARAAN.unique()"
   ]
  },
  {
   "cell_type": "code",
   "execution_count": 26,
   "id": "e48ef673",
   "metadata": {},
   "outputs": [],
   "source": [
    "am['PEMILIK_KENDARAAN'] = \\\n",
    "am['PEMILIK_KENDARAAN'].map({'ya':1,'tidak':0})"
   ]
  },
  {
   "cell_type": "code",
   "execution_count": 14,
   "id": "4beb227b",
   "metadata": {},
   "outputs": [
    {
     "data": {
      "text/plain": [
       "array(['setelah 2020', 'sebelum 2020'], dtype=object)"
      ]
     },
     "execution_count": 14,
     "metadata": {},
     "output_type": "execute_result"
    }
   ],
   "source": [
    "am.TAHUN_PRODUKSI.unique()"
   ]
  },
  {
   "cell_type": "code",
   "execution_count": 27,
   "id": "a67e60fd",
   "metadata": {},
   "outputs": [],
   "source": [
    "am['TAHUN_PRODUKSI'] = \\\n",
    "am['TAHUN_PRODUKSI'].map({'setelah 2020':1,'sebelum 2020':0})"
   ]
  },
  {
   "cell_type": "code",
   "execution_count": 15,
   "id": "e9602ebf",
   "metadata": {},
   "outputs": [
    {
     "data": {
      "text/plain": [
       "array(['belum menikah', 'menikah'], dtype=object)"
      ]
     },
     "execution_count": 15,
     "metadata": {},
     "output_type": "execute_result"
    }
   ],
   "source": [
    "am.STATUS.unique()"
   ]
  },
  {
   "cell_type": "code",
   "execution_count": 28,
   "id": "c0a40ce9",
   "metadata": {},
   "outputs": [],
   "source": [
    "am['STATUS'] = \\\n",
    "am['STATUS'].map({'menikah':1,'belum menikah':0})"
   ]
  },
  {
   "cell_type": "code",
   "execution_count": 16,
   "id": "c7f096ee",
   "metadata": {},
   "outputs": [
    {
     "data": {
      "text/plain": [
       "array(['ada', 'tidak ada'], dtype=object)"
      ]
     },
     "execution_count": 16,
     "metadata": {},
     "output_type": "execute_result"
    }
   ],
   "source": [
    "am.ANAK.unique()"
   ]
  },
  {
   "cell_type": "code",
   "execution_count": 29,
   "id": "f2ad30fd",
   "metadata": {},
   "outputs": [],
   "source": [
    "am['ANAK'] = \\\n",
    "am['ANAK'].map({'ada':1,'tidak ada':0})"
   ]
  },
  {
   "cell_type": "code",
   "execution_count": 17,
   "id": "e9a7af7b",
   "metadata": {},
   "outputs": [
    {
     "data": {
      "text/plain": [
       "array(['keluarga', 'sport'], dtype=object)"
      ]
     },
     "execution_count": 17,
     "metadata": {},
     "output_type": "execute_result"
    }
   ],
   "source": [
    "am.JENIS_KENDARAAN.unique()"
   ]
  },
  {
   "cell_type": "code",
   "execution_count": 18,
   "id": "8002f08a",
   "metadata": {},
   "outputs": [
    {
     "data": {
      "text/plain": [
       "array(['tidak', 'ya'], dtype=object)"
      ]
     },
     "execution_count": 18,
     "metadata": {},
     "output_type": "execute_result"
    }
   ],
   "source": [
    "am.KLAIM.unique()"
   ]
  },
  {
   "cell_type": "code",
   "execution_count": 34,
   "id": "11f04c11",
   "metadata": {},
   "outputs": [],
   "source": [
    "am['KLAIM'] = \\\n",
    "am['KLAIM'].map({'ya':1,'tidak':0})"
   ]
  },
  {
   "cell_type": "code",
   "execution_count": 30,
   "id": "1e91a090",
   "metadata": {},
   "outputs": [
    {
     "data": {
      "text/html": [
       "<div>\n",
       "<style scoped>\n",
       "    .dataframe tbody tr th:only-of-type {\n",
       "        vertical-align: middle;\n",
       "    }\n",
       "\n",
       "    .dataframe tbody tr th {\n",
       "        vertical-align: top;\n",
       "    }\n",
       "\n",
       "    .dataframe thead th {\n",
       "        text-align: right;\n",
       "    }\n",
       "</style>\n",
       "<table border=\"1\" class=\"dataframe\">\n",
       "  <thead>\n",
       "    <tr style=\"text-align: right;\">\n",
       "      <th></th>\n",
       "      <th>Unnamed: 0</th>\n",
       "      <th>IDENTITAS</th>\n",
       "      <th>UMUR</th>\n",
       "      <th>PENGALAMAN_MENGEMUDI</th>\n",
       "      <th>PENDIDIKAN</th>\n",
       "      <th>PENGHASILAN</th>\n",
       "      <th>SKOR_KREDIT</th>\n",
       "      <th>PEMILIK_KENDARAAN</th>\n",
       "      <th>TAHUN_PRODUKSI</th>\n",
       "      <th>STATUS</th>\n",
       "      <th>ANAK</th>\n",
       "      <th>KODE_POS</th>\n",
       "      <th>KM_PER_TAHUN</th>\n",
       "      <th>TILANG_NGEBUT</th>\n",
       "      <th>TILANG_MABUK</th>\n",
       "      <th>KECELAKAAN_SEBELUMNYA</th>\n",
       "    </tr>\n",
       "  </thead>\n",
       "  <tbody>\n",
       "    <tr>\n",
       "      <th>count</th>\n",
       "      <td>10000.00000</td>\n",
       "      <td>10000.000000</td>\n",
       "      <td>4921.000000</td>\n",
       "      <td>10000.000000</td>\n",
       "      <td>10000.00000</td>\n",
       "      <td>10000.000000</td>\n",
       "      <td>9018.000000</td>\n",
       "      <td>10000.000000</td>\n",
       "      <td>10000.000000</td>\n",
       "      <td>10000.000000</td>\n",
       "      <td>10000.000000</td>\n",
       "      <td>10000.000000</td>\n",
       "      <td>9043.000000</td>\n",
       "      <td>10000.000000</td>\n",
       "      <td>10000.00000</td>\n",
       "      <td>10000.000000</td>\n",
       "    </tr>\n",
       "    <tr>\n",
       "      <th>mean</th>\n",
       "      <td>4999.50000</td>\n",
       "      <td>500521.906800</td>\n",
       "      <td>3.404389</td>\n",
       "      <td>2.069300</td>\n",
       "      <td>2.20130</td>\n",
       "      <td>2.899600</td>\n",
       "      <td>0.515813</td>\n",
       "      <td>0.697000</td>\n",
       "      <td>0.303300</td>\n",
       "      <td>0.498200</td>\n",
       "      <td>0.688800</td>\n",
       "      <td>19864.548400</td>\n",
       "      <td>11697.003207</td>\n",
       "      <td>1.482900</td>\n",
       "      <td>0.23920</td>\n",
       "      <td>1.056300</td>\n",
       "    </tr>\n",
       "    <tr>\n",
       "      <th>std</th>\n",
       "      <td>2886.89568</td>\n",
       "      <td>290030.768758</td>\n",
       "      <td>0.490823</td>\n",
       "      <td>0.990452</td>\n",
       "      <td>0.73745</td>\n",
       "      <td>1.149109</td>\n",
       "      <td>0.137688</td>\n",
       "      <td>0.459578</td>\n",
       "      <td>0.459707</td>\n",
       "      <td>0.500022</td>\n",
       "      <td>0.463008</td>\n",
       "      <td>18915.613855</td>\n",
       "      <td>2818.434528</td>\n",
       "      <td>2.241966</td>\n",
       "      <td>0.55499</td>\n",
       "      <td>1.652454</td>\n",
       "    </tr>\n",
       "    <tr>\n",
       "      <th>min</th>\n",
       "      <td>0.00000</td>\n",
       "      <td>101.000000</td>\n",
       "      <td>3.000000</td>\n",
       "      <td>1.000000</td>\n",
       "      <td>1.00000</td>\n",
       "      <td>1.000000</td>\n",
       "      <td>0.053358</td>\n",
       "      <td>0.000000</td>\n",
       "      <td>0.000000</td>\n",
       "      <td>0.000000</td>\n",
       "      <td>0.000000</td>\n",
       "      <td>10238.000000</td>\n",
       "      <td>2000.000000</td>\n",
       "      <td>0.000000</td>\n",
       "      <td>0.00000</td>\n",
       "      <td>0.000000</td>\n",
       "    </tr>\n",
       "    <tr>\n",
       "      <th>25%</th>\n",
       "      <td>2499.75000</td>\n",
       "      <td>249638.500000</td>\n",
       "      <td>3.000000</td>\n",
       "      <td>1.000000</td>\n",
       "      <td>2.00000</td>\n",
       "      <td>2.000000</td>\n",
       "      <td>0.417191</td>\n",
       "      <td>0.000000</td>\n",
       "      <td>0.000000</td>\n",
       "      <td>0.000000</td>\n",
       "      <td>0.000000</td>\n",
       "      <td>10238.000000</td>\n",
       "      <td>10000.000000</td>\n",
       "      <td>0.000000</td>\n",
       "      <td>0.00000</td>\n",
       "      <td>0.000000</td>\n",
       "    </tr>\n",
       "    <tr>\n",
       "      <th>50%</th>\n",
       "      <td>4999.50000</td>\n",
       "      <td>501777.000000</td>\n",
       "      <td>3.000000</td>\n",
       "      <td>2.000000</td>\n",
       "      <td>2.00000</td>\n",
       "      <td>3.000000</td>\n",
       "      <td>0.525033</td>\n",
       "      <td>1.000000</td>\n",
       "      <td>0.000000</td>\n",
       "      <td>0.000000</td>\n",
       "      <td>1.000000</td>\n",
       "      <td>10238.000000</td>\n",
       "      <td>12000.000000</td>\n",
       "      <td>0.000000</td>\n",
       "      <td>0.00000</td>\n",
       "      <td>0.000000</td>\n",
       "    </tr>\n",
       "    <tr>\n",
       "      <th>75%</th>\n",
       "      <td>7499.25000</td>\n",
       "      <td>753974.500000</td>\n",
       "      <td>4.000000</td>\n",
       "      <td>3.000000</td>\n",
       "      <td>3.00000</td>\n",
       "      <td>4.000000</td>\n",
       "      <td>0.618312</td>\n",
       "      <td>1.000000</td>\n",
       "      <td>1.000000</td>\n",
       "      <td>1.000000</td>\n",
       "      <td>1.000000</td>\n",
       "      <td>32765.000000</td>\n",
       "      <td>14000.000000</td>\n",
       "      <td>2.000000</td>\n",
       "      <td>0.00000</td>\n",
       "      <td>2.000000</td>\n",
       "    </tr>\n",
       "    <tr>\n",
       "      <th>max</th>\n",
       "      <td>9999.00000</td>\n",
       "      <td>999976.000000</td>\n",
       "      <td>4.000000</td>\n",
       "      <td>4.000000</td>\n",
       "      <td>3.00000</td>\n",
       "      <td>4.000000</td>\n",
       "      <td>0.960819</td>\n",
       "      <td>1.000000</td>\n",
       "      <td>1.000000</td>\n",
       "      <td>1.000000</td>\n",
       "      <td>1.000000</td>\n",
       "      <td>92101.000000</td>\n",
       "      <td>22000.000000</td>\n",
       "      <td>22.000000</td>\n",
       "      <td>6.00000</td>\n",
       "      <td>15.000000</td>\n",
       "    </tr>\n",
       "  </tbody>\n",
       "</table>\n",
       "</div>"
      ],
      "text/plain": [
       "        Unnamed: 0      IDENTITAS         UMUR  PENGALAMAN_MENGEMUDI  \\\n",
       "count  10000.00000   10000.000000  4921.000000          10000.000000   \n",
       "mean    4999.50000  500521.906800     3.404389              2.069300   \n",
       "std     2886.89568  290030.768758     0.490823              0.990452   \n",
       "min        0.00000     101.000000     3.000000              1.000000   \n",
       "25%     2499.75000  249638.500000     3.000000              1.000000   \n",
       "50%     4999.50000  501777.000000     3.000000              2.000000   \n",
       "75%     7499.25000  753974.500000     4.000000              3.000000   \n",
       "max     9999.00000  999976.000000     4.000000              4.000000   \n",
       "\n",
       "        PENDIDIKAN   PENGHASILAN  SKOR_KREDIT  PEMILIK_KENDARAAN  \\\n",
       "count  10000.00000  10000.000000  9018.000000       10000.000000   \n",
       "mean       2.20130      2.899600     0.515813           0.697000   \n",
       "std        0.73745      1.149109     0.137688           0.459578   \n",
       "min        1.00000      1.000000     0.053358           0.000000   \n",
       "25%        2.00000      2.000000     0.417191           0.000000   \n",
       "50%        2.00000      3.000000     0.525033           1.000000   \n",
       "75%        3.00000      4.000000     0.618312           1.000000   \n",
       "max        3.00000      4.000000     0.960819           1.000000   \n",
       "\n",
       "       TAHUN_PRODUKSI        STATUS          ANAK      KODE_POS  KM_PER_TAHUN  \\\n",
       "count    10000.000000  10000.000000  10000.000000  10000.000000   9043.000000   \n",
       "mean         0.303300      0.498200      0.688800  19864.548400  11697.003207   \n",
       "std          0.459707      0.500022      0.463008  18915.613855   2818.434528   \n",
       "min          0.000000      0.000000      0.000000  10238.000000   2000.000000   \n",
       "25%          0.000000      0.000000      0.000000  10238.000000  10000.000000   \n",
       "50%          0.000000      0.000000      1.000000  10238.000000  12000.000000   \n",
       "75%          1.000000      1.000000      1.000000  32765.000000  14000.000000   \n",
       "max          1.000000      1.000000      1.000000  92101.000000  22000.000000   \n",
       "\n",
       "       TILANG_NGEBUT  TILANG_MABUK  KECELAKAAN_SEBELUMNYA  \n",
       "count   10000.000000   10000.00000           10000.000000  \n",
       "mean        1.482900       0.23920               1.056300  \n",
       "std         2.241966       0.55499               1.652454  \n",
       "min         0.000000       0.00000               0.000000  \n",
       "25%         0.000000       0.00000               0.000000  \n",
       "50%         0.000000       0.00000               0.000000  \n",
       "75%         2.000000       0.00000               2.000000  \n",
       "max        22.000000       6.00000              15.000000  "
      ]
     },
     "execution_count": 30,
     "metadata": {},
     "output_type": "execute_result"
    }
   ],
   "source": [
    "am.describe()"
   ]
  },
  {
   "cell_type": "code",
   "execution_count": 32,
   "id": "8b3c4449",
   "metadata": {},
   "outputs": [
    {
     "data": {
      "text/plain": [
       "Index(['Unnamed: 0', 'IDENTITAS', 'UMUR', 'JENIS_KELAMIN',\n",
       "       'PENGALAMAN_MENGEMUDI', 'PENDIDIKAN', 'PENGHASILAN', 'SKOR_KREDIT',\n",
       "       'PEMILIK_KENDARAAN', 'TAHUN_PRODUKSI', 'STATUS', 'ANAK', 'KODE_POS',\n",
       "       'KM_PER_TAHUN', 'JENIS_KENDARAAN', 'TILANG_NGEBUT', 'TILANG_MABUK',\n",
       "       'KECELAKAAN_SEBELUMNYA', 'KLAIM'],\n",
       "      dtype='object')"
      ]
     },
     "execution_count": 32,
     "metadata": {},
     "output_type": "execute_result"
    }
   ],
   "source": [
    "am.columns"
   ]
  },
  {
   "cell_type": "code",
   "execution_count": 35,
   "id": "3889192a",
   "metadata": {},
   "outputs": [
    {
     "data": {
      "text/plain": [
       "Unnamed: 0                 int64\n",
       "IDENTITAS                  int64\n",
       "UMUR                     float64\n",
       "JENIS_KELAMIN             object\n",
       "PENGALAMAN_MENGEMUDI       int64\n",
       "PENDIDIKAN                 int64\n",
       "PENGHASILAN                int64\n",
       "SKOR_KREDIT              float64\n",
       "PEMILIK_KENDARAAN          int64\n",
       "TAHUN_PRODUKSI             int64\n",
       "STATUS                     int64\n",
       "ANAK                       int64\n",
       "KODE_POS                   int64\n",
       "KM_PER_TAHUN             float64\n",
       "JENIS_KENDARAAN           object\n",
       "TILANG_NGEBUT              int64\n",
       "TILANG_MABUK               int64\n",
       "KECELAKAAN_SEBELUMNYA      int64\n",
       "KLAIM                      int64\n",
       "dtype: object"
      ]
     },
     "execution_count": 35,
     "metadata": {},
     "output_type": "execute_result"
    }
   ],
   "source": [
    "am.dtypes"
   ]
  },
  {
   "cell_type": "code",
   "execution_count": 44,
   "id": "4326c2b3",
   "metadata": {},
   "outputs": [],
   "source": [
    "am_categorical = ['JENIS_KELAMIN']\n",
    "am_numeric = ['IDENTITAS','UMUR','PENDIDIKAN','PENGHASILAN','SKOR_KREDIT','KODE_POS','KM_PER_TAHUN','TILANG_NGEBUT','TILANG_MABUK','KECELAKAAN_SEBELUM']\n",
    "am_binary = ['PEMILIK_KENDARAAN','TAHUN_PRODUKSI','STATUS','ANAK']\n",
    "am_target = ['KLAIM']"
   ]
  },
  {
   "cell_type": "markdown",
   "id": "ae040d06",
   "metadata": {},
   "source": [
    "# "
   ]
  },
  {
   "cell_type": "markdown",
   "id": "982bc8c2",
   "metadata": {},
   "source": [
    "## One Hot Encoding "
   ]
  },
  {
   "cell_type": "code",
   "execution_count": 36,
   "id": "e18a417f",
   "metadata": {},
   "outputs": [
    {
     "data": {
      "text/html": [
       "<div>\n",
       "<style scoped>\n",
       "    .dataframe tbody tr th:only-of-type {\n",
       "        vertical-align: middle;\n",
       "    }\n",
       "\n",
       "    .dataframe tbody tr th {\n",
       "        vertical-align: top;\n",
       "    }\n",
       "\n",
       "    .dataframe thead th {\n",
       "        text-align: right;\n",
       "    }\n",
       "</style>\n",
       "<table border=\"1\" class=\"dataframe\">\n",
       "  <thead>\n",
       "    <tr style=\"text-align: right;\">\n",
       "      <th></th>\n",
       "      <th>Unnamed: 0</th>\n",
       "      <th>IDENTITAS</th>\n",
       "      <th>UMUR</th>\n",
       "      <th>PENGALAMAN_MENGEMUDI</th>\n",
       "      <th>PENDIDIKAN</th>\n",
       "      <th>PENGHASILAN</th>\n",
       "      <th>SKOR_KREDIT</th>\n",
       "      <th>PEMILIK_KENDARAAN</th>\n",
       "      <th>TAHUN_PRODUKSI</th>\n",
       "      <th>STATUS</th>\n",
       "      <th>...</th>\n",
       "      <th>KODE_POS</th>\n",
       "      <th>KM_PER_TAHUN</th>\n",
       "      <th>TILANG_NGEBUT</th>\n",
       "      <th>TILANG_MABUK</th>\n",
       "      <th>KECELAKAAN_SEBELUMNYA</th>\n",
       "      <th>KLAIM</th>\n",
       "      <th>JENIS_KELAMIN_laki-laki</th>\n",
       "      <th>JENIS_KELAMIN_perempuan</th>\n",
       "      <th>JENIS_KENDARAAN_keluarga</th>\n",
       "      <th>JENIS_KENDARAAN_sport</th>\n",
       "    </tr>\n",
       "  </thead>\n",
       "  <tbody>\n",
       "    <tr>\n",
       "      <th>0</th>\n",
       "      <td>0</td>\n",
       "      <td>569520</td>\n",
       "      <td>4.0</td>\n",
       "      <td>1</td>\n",
       "      <td>2</td>\n",
       "      <td>4</td>\n",
       "      <td>0.629027</td>\n",
       "      <td>1</td>\n",
       "      <td>1</td>\n",
       "      <td>0</td>\n",
       "      <td>...</td>\n",
       "      <td>10238</td>\n",
       "      <td>12000.0</td>\n",
       "      <td>0</td>\n",
       "      <td>0</td>\n",
       "      <td>0</td>\n",
       "      <td>0</td>\n",
       "      <td>0</td>\n",
       "      <td>1</td>\n",
       "      <td>1</td>\n",
       "      <td>0</td>\n",
       "    </tr>\n",
       "    <tr>\n",
       "      <th>1</th>\n",
       "      <td>1</td>\n",
       "      <td>750365</td>\n",
       "      <td>NaN</td>\n",
       "      <td>1</td>\n",
       "      <td>1</td>\n",
       "      <td>1</td>\n",
       "      <td>0.357757</td>\n",
       "      <td>0</td>\n",
       "      <td>0</td>\n",
       "      <td>0</td>\n",
       "      <td>...</td>\n",
       "      <td>10238</td>\n",
       "      <td>16000.0</td>\n",
       "      <td>0</td>\n",
       "      <td>0</td>\n",
       "      <td>0</td>\n",
       "      <td>1</td>\n",
       "      <td>1</td>\n",
       "      <td>0</td>\n",
       "      <td>1</td>\n",
       "      <td>0</td>\n",
       "    </tr>\n",
       "    <tr>\n",
       "      <th>2</th>\n",
       "      <td>2</td>\n",
       "      <td>199901</td>\n",
       "      <td>NaN</td>\n",
       "      <td>1</td>\n",
       "      <td>2</td>\n",
       "      <td>2</td>\n",
       "      <td>0.493146</td>\n",
       "      <td>1</td>\n",
       "      <td>0</td>\n",
       "      <td>0</td>\n",
       "      <td>...</td>\n",
       "      <td>10238</td>\n",
       "      <td>11000.0</td>\n",
       "      <td>0</td>\n",
       "      <td>0</td>\n",
       "      <td>0</td>\n",
       "      <td>0</td>\n",
       "      <td>0</td>\n",
       "      <td>1</td>\n",
       "      <td>1</td>\n",
       "      <td>0</td>\n",
       "    </tr>\n",
       "    <tr>\n",
       "      <th>3</th>\n",
       "      <td>3</td>\n",
       "      <td>478866</td>\n",
       "      <td>NaN</td>\n",
       "      <td>1</td>\n",
       "      <td>3</td>\n",
       "      <td>2</td>\n",
       "      <td>0.206013</td>\n",
       "      <td>1</td>\n",
       "      <td>0</td>\n",
       "      <td>0</td>\n",
       "      <td>...</td>\n",
       "      <td>32765</td>\n",
       "      <td>11000.0</td>\n",
       "      <td>0</td>\n",
       "      <td>0</td>\n",
       "      <td>0</td>\n",
       "      <td>0</td>\n",
       "      <td>1</td>\n",
       "      <td>0</td>\n",
       "      <td>1</td>\n",
       "      <td>0</td>\n",
       "    </tr>\n",
       "    <tr>\n",
       "      <th>4</th>\n",
       "      <td>4</td>\n",
       "      <td>731664</td>\n",
       "      <td>NaN</td>\n",
       "      <td>2</td>\n",
       "      <td>1</td>\n",
       "      <td>2</td>\n",
       "      <td>0.388366</td>\n",
       "      <td>1</td>\n",
       "      <td>0</td>\n",
       "      <td>0</td>\n",
       "      <td>...</td>\n",
       "      <td>32765</td>\n",
       "      <td>12000.0</td>\n",
       "      <td>2</td>\n",
       "      <td>0</td>\n",
       "      <td>1</td>\n",
       "      <td>1</td>\n",
       "      <td>1</td>\n",
       "      <td>0</td>\n",
       "      <td>1</td>\n",
       "      <td>0</td>\n",
       "    </tr>\n",
       "  </tbody>\n",
       "</table>\n",
       "<p>5 rows × 21 columns</p>\n",
       "</div>"
      ],
      "text/plain": [
       "   Unnamed: 0  IDENTITAS  UMUR  PENGALAMAN_MENGEMUDI  PENDIDIKAN  PENGHASILAN  \\\n",
       "0           0     569520   4.0                     1           2            4   \n",
       "1           1     750365   NaN                     1           1            1   \n",
       "2           2     199901   NaN                     1           2            2   \n",
       "3           3     478866   NaN                     1           3            2   \n",
       "4           4     731664   NaN                     2           1            2   \n",
       "\n",
       "   SKOR_KREDIT  PEMILIK_KENDARAAN  TAHUN_PRODUKSI  STATUS  ...  KODE_POS  \\\n",
       "0     0.629027                  1               1       0  ...     10238   \n",
       "1     0.357757                  0               0       0  ...     10238   \n",
       "2     0.493146                  1               0       0  ...     10238   \n",
       "3     0.206013                  1               0       0  ...     32765   \n",
       "4     0.388366                  1               0       0  ...     32765   \n",
       "\n",
       "   KM_PER_TAHUN  TILANG_NGEBUT  TILANG_MABUK  KECELAKAAN_SEBELUMNYA  KLAIM  \\\n",
       "0       12000.0              0             0                      0      0   \n",
       "1       16000.0              0             0                      0      1   \n",
       "2       11000.0              0             0                      0      0   \n",
       "3       11000.0              0             0                      0      0   \n",
       "4       12000.0              2             0                      1      1   \n",
       "\n",
       "   JENIS_KELAMIN_laki-laki  JENIS_KELAMIN_perempuan  JENIS_KENDARAAN_keluarga  \\\n",
       "0                        0                        1                         1   \n",
       "1                        1                        0                         1   \n",
       "2                        0                        1                         1   \n",
       "3                        1                        0                         1   \n",
       "4                        1                        0                         1   \n",
       "\n",
       "   JENIS_KENDARAAN_sport  \n",
       "0                      0  \n",
       "1                      0  \n",
       "2                      0  \n",
       "3                      0  \n",
       "4                      0  \n",
       "\n",
       "[5 rows x 21 columns]"
      ]
     },
     "execution_count": 36,
     "metadata": {},
     "output_type": "execute_result"
    }
   ],
   "source": [
    "am_categorical = pd.get_dummies(am)\n",
    "am_categorical.head()"
   ]
  },
  {
   "cell_type": "code",
   "execution_count": 43,
   "id": "81c450d5",
   "metadata": {},
   "outputs": [
    {
     "ename": "AttributeError",
     "evalue": "'list' object has no attribute 'drop'",
     "output_type": "error",
     "traceback": [
      "\u001b[1;31m---------------------------------------------------------------------------\u001b[0m",
      "\u001b[1;31mAttributeError\u001b[0m                            Traceback (most recent call last)",
      "\u001b[1;32m~\\AppData\\Local\\Temp\\ipykernel_6460\\3610098683.py\u001b[0m in \u001b[0;36m<module>\u001b[1;34m\u001b[0m\n\u001b[1;32m----> 1\u001b[1;33m \u001b[0mam_drop\u001b[0m \u001b[1;33m=\u001b[0m \u001b[0mam_categorical\u001b[0m\u001b[1;33m.\u001b[0m\u001b[0mdrop\u001b[0m\u001b[1;33m(\u001b[0m\u001b[0mam_numeric\u001b[0m\u001b[1;33m,\u001b[0m \u001b[0maxis\u001b[0m\u001b[1;33m=\u001b[0m\u001b[1;36m1\u001b[0m\u001b[1;33m)\u001b[0m\u001b[1;33m\u001b[0m\u001b[1;33m\u001b[0m\u001b[0m\n\u001b[0m\u001b[0;32m      2\u001b[0m \u001b[0mam_drop\u001b[0m\u001b[1;33m.\u001b[0m\u001b[0mhead\u001b[0m\u001b[1;33m(\u001b[0m\u001b[1;33m)\u001b[0m\u001b[1;33m\u001b[0m\u001b[1;33m\u001b[0m\u001b[0m\n",
      "\u001b[1;31mAttributeError\u001b[0m: 'list' object has no attribute 'drop'"
     ]
    }
   ],
   "source": [
    "am_drop = am_categorical.drop(am_numeric, axis=1)\n",
    "am_drop.head()"
   ]
  },
  {
   "cell_type": "code",
   "execution_count": null,
   "id": "bccc4e21",
   "metadata": {},
   "outputs": [],
   "source": []
  }
 ],
 "metadata": {
  "kernelspec": {
   "display_name": "Python 3 (ipykernel)",
   "language": "python",
   "name": "python3"
  },
  "language_info": {
   "codemirror_mode": {
    "name": "ipython",
    "version": 3
   },
   "file_extension": ".py",
   "mimetype": "text/x-python",
   "name": "python",
   "nbconvert_exporter": "python",
   "pygments_lexer": "ipython3",
   "version": "3.9.13"
  }
 },
 "nbformat": 4,
 "nbformat_minor": 5
}
